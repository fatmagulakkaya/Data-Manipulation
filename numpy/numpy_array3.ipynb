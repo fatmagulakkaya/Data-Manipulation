{
 "cells": [
  {
   "cell_type": "markdown",
   "id": "a0c6891f-1d4e-4d6c-8f0b-6e5ad6555a18",
   "metadata": {},
   "source": [
    "**Index ile Elemanlara Erişmek**"
   ]
  },
  {
   "cell_type": "code",
   "execution_count": 1,
   "id": "17c4d82c-8c61-4b5c-916d-e498c0183903",
   "metadata": {},
   "outputs": [
    {
     "data": {
      "text/plain": [
       "array([9, 3, 3, 5, 1, 6, 3, 1, 0, 3])"
      ]
     },
     "execution_count": 1,
     "metadata": {},
     "output_type": "execute_result"
    }
   ],
   "source": [
    "import numpy as np \n",
    "a = np.random.randint(10, size= 10 )\n",
    "a"
   ]
  },
  {
   "cell_type": "code",
   "execution_count": 2,
   "id": "c2b1a0ef-ec14-4d10-a5ac-140445c64dae",
   "metadata": {},
   "outputs": [
    {
     "data": {
      "text/plain": [
       "9"
      ]
     },
     "execution_count": 2,
     "metadata": {},
     "output_type": "execute_result"
    }
   ],
   "source": [
    "a[0]"
   ]
  },
  {
   "cell_type": "code",
   "execution_count": 3,
   "id": "4b82b4ac-c2a4-470f-b486-e67e1bebbf9c",
   "metadata": {},
   "outputs": [
    {
     "data": {
      "text/plain": [
       "0"
      ]
     },
     "execution_count": 3,
     "metadata": {},
     "output_type": "execute_result"
    }
   ],
   "source": [
    "a[-2]"
   ]
  },
  {
   "cell_type": "code",
   "execution_count": 4,
   "id": "eb1112aa-034c-438a-8991-17b67ac0b69c",
   "metadata": {},
   "outputs": [],
   "source": [
    "a[0]=100"
   ]
  },
  {
   "cell_type": "code",
   "execution_count": 5,
   "id": "fed3c3b3-6489-445d-a03f-6671f9966c8d",
   "metadata": {},
   "outputs": [
    {
     "data": {
      "text/plain": [
       "array([100,   3,   3,   5,   1,   6,   3,   1,   0,   3])"
      ]
     },
     "execution_count": 5,
     "metadata": {},
     "output_type": "execute_result"
    }
   ],
   "source": [
    "a"
   ]
  },
  {
   "cell_type": "code",
   "execution_count": 7,
   "id": "4b268183-5bf7-46af-aae6-9ccf07247b2f",
   "metadata": {},
   "outputs": [
    {
     "data": {
      "text/plain": [
       "array([[0, 3, 0, 3, 8],\n",
       "       [1, 4, 6, 9, 3],\n",
       "       [4, 3, 6, 0, 7]])"
      ]
     },
     "execution_count": 7,
     "metadata": {},
     "output_type": "execute_result"
    }
   ],
   "source": [
    "m = np.random.randint(10, size= (3,5) )\n",
    "m"
   ]
  },
  {
   "cell_type": "code",
   "execution_count": 8,
   "id": "c98b9636-a501-42fe-930a-72a0d2d2b526",
   "metadata": {},
   "outputs": [
    {
     "data": {
      "text/plain": [
       "0"
      ]
     },
     "execution_count": 8,
     "metadata": {},
     "output_type": "execute_result"
    }
   ],
   "source": [
    "m[0,0]"
   ]
  },
  {
   "cell_type": "code",
   "execution_count": 9,
   "id": "15f6af09-bc22-47cf-b58e-c807ebcea763",
   "metadata": {},
   "outputs": [
    {
     "data": {
      "text/plain": [
       "4"
      ]
     },
     "execution_count": 9,
     "metadata": {},
     "output_type": "execute_result"
    }
   ],
   "source": [
    "m[1,1]"
   ]
  },
  {
   "cell_type": "code",
   "execution_count": 10,
   "id": "5b658d10-6994-45c2-871e-8a73ca51ba59",
   "metadata": {},
   "outputs": [
    {
     "data": {
      "text/plain": [
       "3"
      ]
     },
     "execution_count": 10,
     "metadata": {},
     "output_type": "execute_result"
    }
   ],
   "source": [
    "m[1,4]"
   ]
  },
  {
   "cell_type": "code",
   "execution_count": 11,
   "id": "41629f1f-9513-4e88-9a24-15de6086ffec",
   "metadata": {},
   "outputs": [],
   "source": [
    "m[1,4]=98"
   ]
  },
  {
   "cell_type": "code",
   "execution_count": 12,
   "id": "7ca34696-bde0-4caf-9f6f-b04fbfe94b2a",
   "metadata": {},
   "outputs": [
    {
     "data": {
      "text/plain": [
       "array([[ 0,  3,  0,  3,  8],\n",
       "       [ 1,  4,  6,  9, 98],\n",
       "       [ 4,  3,  6,  0,  7]])"
      ]
     },
     "execution_count": 12,
     "metadata": {},
     "output_type": "execute_result"
    }
   ],
   "source": [
    "m"
   ]
  },
  {
   "cell_type": "markdown",
   "id": "4d5d2c69-d1b9-4754-a1fc-a86d52c3e57b",
   "metadata": {},
   "source": [
    "**Array Alt Kümesine Erişmek(Slicing ile Elemanlara Erişmek)**"
   ]
  },
  {
   "cell_type": "code",
   "execution_count": 13,
   "id": "bfdf0acf-c18a-4961-bf53-05077e186c7d",
   "metadata": {},
   "outputs": [],
   "source": [
    "import numpy as np"
   ]
  },
  {
   "cell_type": "code",
   "execution_count": 14,
   "id": "18b2ed6e-728f-40a9-b917-2c010557249a",
   "metadata": {},
   "outputs": [
    {
     "data": {
      "text/plain": [
       "array([20, 21, 22, 23, 24, 25, 26, 27, 28, 29])"
      ]
     },
     "execution_count": 14,
     "metadata": {},
     "output_type": "execute_result"
    }
   ],
   "source": [
    "a = np.arange(20,30)\n",
    "a"
   ]
  },
  {
   "cell_type": "code",
   "execution_count": 15,
   "id": "f7cc895c-a06d-483b-8300-9564f805acca",
   "metadata": {},
   "outputs": [
    {
     "data": {
      "text/plain": [
       "array([21, 23, 25, 27, 29])"
      ]
     },
     "execution_count": 15,
     "metadata": {},
     "output_type": "execute_result"
    }
   ],
   "source": [
    "a[1::2]"
   ]
  },
  {
   "cell_type": "code",
   "execution_count": 16,
   "id": "de0280a3-c64c-4038-91e3-0aad2917788e",
   "metadata": {},
   "outputs": [
    {
     "data": {
      "text/plain": [
       "array([20, 21, 22])"
      ]
     },
     "execution_count": 16,
     "metadata": {},
     "output_type": "execute_result"
    }
   ],
   "source": [
    "a[:3]"
   ]
  },
  {
   "cell_type": "code",
   "execution_count": 17,
   "id": "b6ab8301-43c7-41d6-8dc2-75b06c0832d6",
   "metadata": {},
   "outputs": [
    {
     "data": {
      "text/plain": [
       "array([22, 24, 26, 28])"
      ]
     },
     "execution_count": 17,
     "metadata": {},
     "output_type": "execute_result"
    }
   ],
   "source": [
    "a[2::2]"
   ]
  },
  {
   "cell_type": "code",
   "execution_count": 18,
   "id": "8a217930-dfaf-411d-a7ea-110b4606bbb1",
   "metadata": {},
   "outputs": [],
   "source": [
    "#iki boyutlu slice işlemleri"
   ]
  },
  {
   "cell_type": "code",
   "execution_count": 19,
   "id": "58fc7762-1673-4c90-8c6d-7af8a6dc4d47",
   "metadata": {},
   "outputs": [],
   "source": [
    "m = np.random.randint(10, size= (5,5))"
   ]
  },
  {
   "cell_type": "code",
   "execution_count": 20,
   "id": "939fc668-0df7-44af-a684-6343a03ad352",
   "metadata": {},
   "outputs": [
    {
     "data": {
      "text/plain": [
       "array([[6, 9, 1, 0, 4],\n",
       "       [6, 7, 0, 4, 3],\n",
       "       [1, 4, 6, 9, 3],\n",
       "       [7, 8, 7, 9, 4],\n",
       "       [8, 1, 6, 2, 0]])"
      ]
     },
     "execution_count": 20,
     "metadata": {},
     "output_type": "execute_result"
    }
   ],
   "source": [
    "m"
   ]
  },
  {
   "cell_type": "code",
   "execution_count": 21,
   "id": "3f45d5f0-433a-4728-bdbe-8192f9324ac9",
   "metadata": {},
   "outputs": [
    {
     "data": {
      "text/plain": [
       "array([9, 7, 4, 8, 1])"
      ]
     },
     "execution_count": 21,
     "metadata": {},
     "output_type": "execute_result"
    }
   ],
   "source": [
    "m[:,1]"
   ]
  },
  {
   "cell_type": "code",
   "execution_count": 22,
   "id": "cfe322fa-5856-4bc1-be47-88f1998b92a1",
   "metadata": {},
   "outputs": [
    {
     "data": {
      "text/plain": [
       "array([0, 4, 9, 9, 2])"
      ]
     },
     "execution_count": 22,
     "metadata": {},
     "output_type": "execute_result"
    }
   ],
   "source": [
    "m[:,3]"
   ]
  },
  {
   "cell_type": "code",
   "execution_count": 23,
   "id": "7e14aca9-c7c1-4529-8e4e-db9aaeb5fb89",
   "metadata": {},
   "outputs": [
    {
     "data": {
      "text/plain": [
       "array([8, 1, 6, 2, 0])"
      ]
     },
     "execution_count": 23,
     "metadata": {},
     "output_type": "execute_result"
    }
   ],
   "source": [
    "m[4,:]"
   ]
  },
  {
   "cell_type": "code",
   "execution_count": 24,
   "id": "d863d1f2-e83f-472c-aaad-a584112f9353",
   "metadata": {},
   "outputs": [
    {
     "data": {
      "text/plain": [
       "array([1, 4, 6, 9, 3])"
      ]
     },
     "execution_count": 24,
     "metadata": {},
     "output_type": "execute_result"
    }
   ],
   "source": [
    "m[2,:]\n"
   ]
  },
  {
   "cell_type": "code",
   "execution_count": 25,
   "id": "84ed17fb-52b7-4489-8f84-b9323f6286ea",
   "metadata": {},
   "outputs": [
    {
     "data": {
      "text/plain": [
       "9"
      ]
     },
     "execution_count": 25,
     "metadata": {},
     "output_type": "execute_result"
    }
   ],
   "source": [
    "m[2,3]"
   ]
  },
  {
   "cell_type": "code",
   "execution_count": 26,
   "id": "e6e18adb-758b-490c-ab25-874876cfa9d9",
   "metadata": {},
   "outputs": [
    {
     "data": {
      "text/plain": [
       "array([[6, 9, 1],\n",
       "       [6, 7, 0]])"
      ]
     },
     "execution_count": 26,
     "metadata": {},
     "output_type": "execute_result"
    }
   ],
   "source": [
    " m[0:2,0:3]"
   ]
  },
  {
   "cell_type": "code",
   "execution_count": 27,
   "id": "334fde72-ee54-4f21-b6c7-3fc74bbd614d",
   "metadata": {},
   "outputs": [
    {
     "data": {
      "text/plain": [
       "array([[6, 9],\n",
       "       [6, 7],\n",
       "       [1, 4],\n",
       "       [7, 8],\n",
       "       [8, 1]])"
      ]
     },
     "execution_count": 27,
     "metadata": {},
     "output_type": "execute_result"
    }
   ],
   "source": [
    "m[::,:2]"
   ]
  },
  {
   "cell_type": "code",
   "execution_count": 28,
   "id": "2a936ef6-1cf4-4b10-a615-461bd2d5642b",
   "metadata": {},
   "outputs": [
    {
     "data": {
      "text/plain": [
       "array([[6, 7],\n",
       "       [1, 4]])"
      ]
     },
     "execution_count": 28,
     "metadata": {},
     "output_type": "execute_result"
    }
   ],
   "source": [
    "m[1:3, 0:2]"
   ]
  },
  {
   "cell_type": "markdown",
   "id": "84596f42-cd51-4d35-b4ad-602ba67384be",
   "metadata": {},
   "source": [
    "**Alt Küme Üzerinde İşlem Yapmak**"
   ]
  },
  {
   "cell_type": "code",
   "execution_count": 29,
   "id": "632d3da8-c839-4b09-a23a-7df71c7da0ee",
   "metadata": {},
   "outputs": [
    {
     "data": {
      "text/plain": [
       "array([[0, 0, 7, 5, 4],\n",
       "       [3, 5, 3, 1, 6],\n",
       "       [2, 2, 4, 6, 7],\n",
       "       [7, 4, 2, 2, 0],\n",
       "       [7, 3, 7, 8, 9]])"
      ]
     },
     "execution_count": 29,
     "metadata": {},
     "output_type": "execute_result"
    }
   ],
   "source": [
    "import numpy as np \n",
    "a =np.random.randint(10, size=(5,5))\n",
    "a"
   ]
  },
  {
   "cell_type": "code",
   "execution_count": 32,
   "id": "594da83b-04ab-4952-9364-fd3c216dee92",
   "metadata": {},
   "outputs": [
    {
     "data": {
      "text/plain": [
       "array([[0, 0],\n",
       "       [3, 5],\n",
       "       [2, 2]])"
      ]
     },
     "execution_count": 32,
     "metadata": {},
     "output_type": "execute_result"
    }
   ],
   "source": [
    "alt_a=a[0:3,0:2]\n",
    "alt_a"
   ]
  },
  {
   "cell_type": "code",
   "execution_count": 33,
   "id": "cb785cb9-6b03-4ca2-a207-33e5a2e633a1",
   "metadata": {},
   "outputs": [],
   "source": [
    "alt_a[0,0] =9999\n",
    "alt_a[1,1]=888"
   ]
  },
  {
   "cell_type": "code",
   "execution_count": 34,
   "id": "1078891c-b9fa-4195-af57-6cc1a62f1c7e",
   "metadata": {},
   "outputs": [
    {
     "data": {
      "text/plain": [
       "array([[9999,    0],\n",
       "       [   3,  888],\n",
       "       [   2,    2]])"
      ]
     },
     "execution_count": 34,
     "metadata": {},
     "output_type": "execute_result"
    }
   ],
   "source": [
    "alt_a"
   ]
  },
  {
   "cell_type": "code",
   "execution_count": 35,
   "id": "81bf00a1-e986-4f40-9669-7d0333212185",
   "metadata": {},
   "outputs": [
    {
     "data": {
      "text/plain": [
       "array([[9999,    0,    7,    5,    4],\n",
       "       [   3,  888,    3,    1,    6],\n",
       "       [   2,    2,    4,    6,    7],\n",
       "       [   7,    4,    2,    2,    0],\n",
       "       [   7,    3,    7,    8,    9]])"
      ]
     },
     "execution_count": 35,
     "metadata": {},
     "output_type": "execute_result"
    }
   ],
   "source": [
    "a"
   ]
  },
  {
   "cell_type": "code",
   "execution_count": 36,
   "id": "147a8b0c-5d9e-4240-b573-e1b5ae166fdf",
   "metadata": {},
   "outputs": [],
   "source": [
    "#burada seçilen parçada değişen sayı ana array'de değişti\n",
    "#değişmemesi için copy() methodu ile alt kümeyi ana array,2den ayırarak array'den abğımsızlaştırarak işlem yapılmasını sağlar."
   ]
  },
  {
   "cell_type": "code",
   "execution_count": 37,
   "id": "51bea3fc-063d-4ef3-8f0d-068db5857155",
   "metadata": {},
   "outputs": [
    {
     "data": {
      "text/plain": [
       "array([[3, 6, 0, 6, 4],\n",
       "       [1, 4, 3, 3, 7],\n",
       "       [7, 8, 7, 5, 2],\n",
       "       [8, 9, 4, 9, 0],\n",
       "       [2, 6, 3, 2, 8]])"
      ]
     },
     "execution_count": 37,
     "metadata": {},
     "output_type": "execute_result"
    }
   ],
   "source": [
    "m=np.random.randint(10, size=(5,5))\n",
    "m"
   ]
  },
  {
   "cell_type": "code",
   "execution_count": 38,
   "id": "55f876c4-1fb5-47d0-8bd2-c72e5d3bad0b",
   "metadata": {},
   "outputs": [
    {
     "data": {
      "text/plain": [
       "array([[3, 6],\n",
       "       [1, 4],\n",
       "       [7, 8]])"
      ]
     },
     "execution_count": 38,
     "metadata": {},
     "output_type": "execute_result"
    }
   ],
   "source": [
    "alt_b = m[0:3,0:2].copy()\n",
    "alt_b"
   ]
  },
  {
   "cell_type": "code",
   "execution_count": 39,
   "id": "2d448559-101c-464f-90f0-47b2cb1e49ae",
   "metadata": {},
   "outputs": [
    {
     "data": {
      "text/plain": [
       "array([[3, 6, 0, 6, 4],\n",
       "       [1, 4, 3, 3, 7],\n",
       "       [7, 8, 7, 5, 2],\n",
       "       [8, 9, 4, 9, 0],\n",
       "       [2, 6, 3, 2, 8]])"
      ]
     },
     "execution_count": 39,
     "metadata": {},
     "output_type": "execute_result"
    }
   ],
   "source": [
    "m"
   ]
  },
  {
   "cell_type": "markdown",
   "id": "ca6d5496-4762-4525-b4bc-d8727c4ca77a",
   "metadata": {},
   "source": [
    "**Fancy Index iel Elemanlara Erişmek**"
   ]
  },
  {
   "cell_type": "code",
   "execution_count": 1,
   "id": "c416d264-7702-4c6f-8f50-4b84e454cd8a",
   "metadata": {},
   "outputs": [
    {
     "data": {
      "text/plain": [
       "array([ 0,  3,  6,  9, 12, 15, 18, 21, 24, 27])"
      ]
     },
     "execution_count": 1,
     "metadata": {},
     "output_type": "execute_result"
    }
   ],
   "source": [
    "import numpy as np\n",
    "v=np.arange(0,30,3)\n",
    "v"
   ]
  },
  {
   "cell_type": "code",
   "execution_count": 2,
   "id": "e8d2757c-6bb3-45b8-b134-a5c6e2320f04",
   "metadata": {},
   "outputs": [
    {
     "data": {
      "text/plain": [
       "9"
      ]
     },
     "execution_count": 2,
     "metadata": {},
     "output_type": "execute_result"
    }
   ],
   "source": [
    "v[3]\n"
   ]
  },
  {
   "cell_type": "code",
   "execution_count": 3,
   "id": "867f4707-f2d4-4128-be33-2b226af442b8",
   "metadata": {},
   "outputs": [
    {
     "data": {
      "text/plain": [
       "3"
      ]
     },
     "execution_count": 3,
     "metadata": {},
     "output_type": "execute_result"
    }
   ],
   "source": [
    "v[1]"
   ]
  },
  {
   "cell_type": "code",
   "execution_count": 22,
   "id": "0cfd9995-002d-4a5c-8e65-2cfa4c5fbc84",
   "metadata": {},
   "outputs": [
    {
     "data": {
      "text/plain": [
       "15"
      ]
     },
     "execution_count": 22,
     "metadata": {},
     "output_type": "execute_result"
    }
   ],
   "source": [
    "v[5]"
   ]
  },
  {
   "cell_type": "code",
   "execution_count": null,
   "id": "7749311f-5e0b-4792-8d2a-dc9e55b85b9c",
   "metadata": {},
   "outputs": [],
   "source": [
    "#bir arada gözlemlemek için;"
   ]
  },
  {
   "cell_type": "code",
   "execution_count": 5,
   "id": "f8698537-6ccd-476b-b892-9c061e0bd807",
   "metadata": {},
   "outputs": [
    {
     "data": {
      "text/plain": [
       "[3, 9, 15]"
      ]
     },
     "execution_count": 5,
     "metadata": {},
     "output_type": "execute_result"
    }
   ],
   "source": [
    "[v[1], v[3], v[5]]"
   ]
  },
  {
   "cell_type": "code",
   "execution_count": 21,
   "id": "74b9fc62-5069-4e00-8f71-89c142a7fd26",
   "metadata": {},
   "outputs": [],
   "source": [
    "#çok fazla index sorgulama işlemini nasıl yapıyoruz? Fancy index ile"
   ]
  },
  {
   "cell_type": "code",
   "execution_count": 7,
   "id": "bc077db2-f13f-4aa4-995b-841af869a8a7",
   "metadata": {},
   "outputs": [],
   "source": [
    "al_getir = [1,3,5]"
   ]
  },
  {
   "cell_type": "code",
   "execution_count": 8,
   "id": "303ad516-ccb5-4a1c-b0e0-942a4ff2f853",
   "metadata": {},
   "outputs": [
    {
     "data": {
      "text/plain": [
       "array([ 0,  3,  6,  9, 12, 15, 18, 21, 24, 27])"
      ]
     },
     "execution_count": 8,
     "metadata": {},
     "output_type": "execute_result"
    }
   ],
   "source": [
    "v"
   ]
  },
  {
   "cell_type": "code",
   "execution_count": 9,
   "id": "f00901f5-ada4-4199-a271-cc1d492383a4",
   "metadata": {},
   "outputs": [
    {
     "data": {
      "text/plain": [
       "array([ 3,  9, 15])"
      ]
     },
     "execution_count": 9,
     "metadata": {},
     "output_type": "execute_result"
    }
   ],
   "source": [
    "v[al_getir]"
   ]
  },
  {
   "cell_type": "code",
   "execution_count": 10,
   "id": "892725d7-b901-47a6-9896-8e3ab3bc6876",
   "metadata": {},
   "outputs": [],
   "source": [
    "#iki boyutta fancy"
   ]
  },
  {
   "cell_type": "code",
   "execution_count": 11,
   "id": "f4c562fd-0af5-48b5-9fb4-f3efc5a2349e",
   "metadata": {},
   "outputs": [],
   "source": [
    "m=np.arange(9).reshape((3,3))"
   ]
  },
  {
   "cell_type": "code",
   "execution_count": 12,
   "id": "2a1d072b-c94c-49e6-b683-4cc06c51e5a7",
   "metadata": {},
   "outputs": [
    {
     "data": {
      "text/plain": [
       "array([[0, 1, 2],\n",
       "       [3, 4, 5],\n",
       "       [6, 7, 8]])"
      ]
     },
     "execution_count": 12,
     "metadata": {},
     "output_type": "execute_result"
    }
   ],
   "source": [
    "m"
   ]
  },
  {
   "cell_type": "code",
   "execution_count": 13,
   "id": "8151f3bf-42fa-419f-aefa-9ada82fefc1c",
   "metadata": {},
   "outputs": [],
   "source": [
    "satir = np.array([0,1])\n",
    "sutun = np.array([1,2])"
   ]
  },
  {
   "cell_type": "code",
   "execution_count": 14,
   "id": "bbf4329a-2288-48a9-a729-72bd5ef5de52",
   "metadata": {},
   "outputs": [
    {
     "data": {
      "text/plain": [
       "array([1, 5])"
      ]
     },
     "execution_count": 14,
     "metadata": {},
     "output_type": "execute_result"
    }
   ],
   "source": [
    "m[satir,sutun]"
   ]
  },
  {
   "cell_type": "code",
   "execution_count": 15,
   "id": "c4119df7-194c-4a53-821d-881882281acf",
   "metadata": {},
   "outputs": [],
   "source": [
    "#basit index ile fancy index"
   ]
  },
  {
   "cell_type": "code",
   "execution_count": 16,
   "id": "03048d0d-08c9-4a87-a613-3eff26e9b5bc",
   "metadata": {},
   "outputs": [
    {
     "data": {
      "text/plain": [
       "array([[0, 1, 2],\n",
       "       [3, 4, 5],\n",
       "       [6, 7, 8]])"
      ]
     },
     "execution_count": 16,
     "metadata": {},
     "output_type": "execute_result"
    }
   ],
   "source": [
    "m\n"
   ]
  },
  {
   "cell_type": "code",
   "execution_count": 17,
   "id": "5dfa2533-1929-41a9-89dd-44f89b02ecc1",
   "metadata": {},
   "outputs": [
    {
     "data": {
      "text/plain": [
       "array([1, 2])"
      ]
     },
     "execution_count": 17,
     "metadata": {},
     "output_type": "execute_result"
    }
   ],
   "source": [
    "m[0,[1,2]]"
   ]
  },
  {
   "cell_type": "code",
   "execution_count": 20,
   "id": "8a6fbc1f-07c4-47df-936a-162f913598ad",
   "metadata": {},
   "outputs": [],
   "source": [
    "#slice ile fancy"
   ]
  },
  {
   "cell_type": "code",
   "execution_count": 19,
   "id": "7cbda224-5a45-42d9-8d71-a420ba9a73be",
   "metadata": {},
   "outputs": [
    {
     "data": {
      "text/plain": [
       "array([[1, 2],\n",
       "       [4, 5],\n",
       "       [7, 8]])"
      ]
     },
     "execution_count": 19,
     "metadata": {},
     "output_type": "execute_result"
    }
   ],
   "source": [
    "m[0:,[1,2]]"
   ]
  },
  {
   "cell_type": "code",
   "execution_count": null,
   "id": "a26c774a-56b1-4cba-a1f2-aaa81f5aefa9",
   "metadata": {},
   "outputs": [],
   "source": []
  }
 ],
 "metadata": {
  "kernelspec": {
   "display_name": "Python 3 (ipykernel)",
   "language": "python",
   "name": "python3"
  },
  "language_info": {
   "codemirror_mode": {
    "name": "ipython",
    "version": 3
   },
   "file_extension": ".py",
   "mimetype": "text/x-python",
   "name": "python",
   "nbconvert_exporter": "python",
   "pygments_lexer": "ipython3",
   "version": "3.9.12"
  }
 },
 "nbformat": 4,
 "nbformat_minor": 5
}
