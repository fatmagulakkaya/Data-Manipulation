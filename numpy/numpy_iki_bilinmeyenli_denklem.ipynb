{
 "cells": [
  {
   "cell_type": "markdown",
   "id": "ca1a9fc0-1e3f-4966-99e1-6f93dc4be4fa",
   "metadata": {},
   "source": [
    "**Numpy ile İki Bilinmeyenli Denklem Çözümü**"
   ]
  },
  {
   "cell_type": "code",
   "execution_count": 2,
   "id": "e785d5bf-ac04-4ac8-ba7a-a004b0cf68ce",
   "metadata": {},
   "outputs": [],
   "source": [
    "import numpy as np"
   ]
  },
  {
   "cell_type": "markdown",
   "id": "081ae8cf-18f3-4765-bb7c-1bd6f93b5da7",
   "metadata": {},
   "source": [
    "*  5*x0+x1=12\n",
    "*  x0+3*x1=10"
   ]
  },
  {
   "cell_type": "code",
   "execution_count": 4,
   "id": "0775ba23-c95f-42c2-8bf8-3e092610d5f0",
   "metadata": {},
   "outputs": [],
   "source": [
    "a=np.array([[5,1],[1,3]])\n",
    "b=np.array([12,10])"
   ]
  },
  {
   "cell_type": "code",
   "execution_count": 5,
   "id": "9a586e0e-bca7-4ca5-bbda-dd1a53fa723f",
   "metadata": {},
   "outputs": [
    {
     "data": {
      "text/plain": [
       "array([[5, 1],\n",
       "       [1, 3]])"
      ]
     },
     "execution_count": 5,
     "metadata": {},
     "output_type": "execute_result"
    }
   ],
   "source": [
    "a"
   ]
  },
  {
   "cell_type": "code",
   "execution_count": 6,
   "id": "b3840b4d-8320-4578-a96a-b9d91fd7c2c8",
   "metadata": {},
   "outputs": [
    {
     "data": {
      "text/plain": [
       "array([12, 10])"
      ]
     },
     "execution_count": 6,
     "metadata": {},
     "output_type": "execute_result"
    }
   ],
   "source": [
    "b"
   ]
  },
  {
   "cell_type": "code",
   "execution_count": 7,
   "id": "bb8aeba2-f9f3-4586-afb9-1c87c03a5c8e",
   "metadata": {},
   "outputs": [
    {
     "data": {
      "text/plain": [
       "array([1.85714286, 2.71428571])"
      ]
     },
     "execution_count": 7,
     "metadata": {},
     "output_type": "execute_result"
    }
   ],
   "source": [
    "x=np.linalg.solve(a,b)\n",
    "x"
   ]
  },
  {
   "cell_type": "code",
   "execution_count": null,
   "id": "7592a277-306f-4753-a837-b522ef17ea6e",
   "metadata": {},
   "outputs": [],
   "source": []
  }
 ],
 "metadata": {
  "kernelspec": {
   "display_name": "Python 3 (ipykernel)",
   "language": "python",
   "name": "python3"
  },
  "language_info": {
   "codemirror_mode": {
    "name": "ipython",
    "version": 3
   },
   "file_extension": ".py",
   "mimetype": "text/x-python",
   "name": "python",
   "nbconvert_exporter": "python",
   "pygments_lexer": "ipython3",
   "version": "3.9.12"
  }
 },
 "nbformat": 4,
 "nbformat_minor": 5
}
