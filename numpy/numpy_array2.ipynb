{
 "cells": [
  {
   "cell_type": "markdown",
   "id": "981eab18-8a65-46ac-8123-754631f01c20",
   "metadata": {},
   "source": [
    "**Yeniden Şekillendirme (reshaping)**"
   ]
  },
  {
   "cell_type": "code",
   "execution_count": 1,
   "id": "e3552813-6d1a-495f-b052-9d3361a68f6c",
   "metadata": {},
   "outputs": [],
   "source": [
    "import numpy as np"
   ]
  },
  {
   "cell_type": "code",
   "execution_count": 2,
   "id": "054c8e8b-9156-40aa-a53f-33b182cd1a30",
   "metadata": {},
   "outputs": [
    {
     "data": {
      "text/plain": [
       "array([1, 2, 3, 4, 5, 6, 7, 8, 9])"
      ]
     },
     "execution_count": 2,
     "metadata": {},
     "output_type": "execute_result"
    }
   ],
   "source": [
    "np.arange(1,10)"
   ]
  },
  {
   "cell_type": "code",
   "execution_count": 3,
   "id": "b4e99bb0-f661-41b2-a9dd-7c933c4bce68",
   "metadata": {},
   "outputs": [
    {
     "data": {
      "text/plain": [
       "array([[1, 2, 3],\n",
       "       [4, 5, 6],\n",
       "       [7, 8, 9]])"
      ]
     },
     "execution_count": 3,
     "metadata": {},
     "output_type": "execute_result"
    }
   ],
   "source": [
    "np.arange(1,10).reshape((3,3))"
   ]
  },
  {
   "cell_type": "code",
   "execution_count": 4,
   "id": "a1ecea8a-a205-42ce-a2ed-aa09082d8ad2",
   "metadata": {},
   "outputs": [],
   "source": [
    "a=np.arange(1,10)"
   ]
  },
  {
   "cell_type": "code",
   "execution_count": 5,
   "id": "63c1414d-79aa-4930-8782-a1a6bf36fc22",
   "metadata": {},
   "outputs": [
    {
     "data": {
      "text/plain": [
       "array([1, 2, 3, 4, 5, 6, 7, 8, 9])"
      ]
     },
     "execution_count": 5,
     "metadata": {},
     "output_type": "execute_result"
    }
   ],
   "source": [
    "a"
   ]
  },
  {
   "cell_type": "code",
   "execution_count": 6,
   "id": "330c8045-e5ce-4a15-a8c6-1b00c29e6e6d",
   "metadata": {},
   "outputs": [
    {
     "data": {
      "text/plain": [
       "1"
      ]
     },
     "execution_count": 6,
     "metadata": {},
     "output_type": "execute_result"
    }
   ],
   "source": [
    "a.ndim"
   ]
  },
  {
   "cell_type": "code",
   "execution_count": 8,
   "id": "d9f78539-542b-480c-b9a3-9a09f6d1c4ec",
   "metadata": {},
   "outputs": [],
   "source": [
    "b=a.reshape((1,9))"
   ]
  },
  {
   "cell_type": "code",
   "execution_count": 9,
   "id": "792568fe-1b06-41cd-ad4f-6de3e11a6389",
   "metadata": {},
   "outputs": [
    {
     "data": {
      "text/plain": [
       "array([[1, 2, 3, 4, 5, 6, 7, 8, 9]])"
      ]
     },
     "execution_count": 9,
     "metadata": {},
     "output_type": "execute_result"
    }
   ],
   "source": [
    " b"
   ]
  },
  {
   "cell_type": "code",
   "execution_count": 10,
   "id": "f34ee2ca-ddb3-401b-8a62-fc24db7ed3f6",
   "metadata": {},
   "outputs": [
    {
     "data": {
      "text/plain": [
       "2"
      ]
     },
     "execution_count": 10,
     "metadata": {},
     "output_type": "execute_result"
    }
   ],
   "source": [
    "b.ndim"
   ]
  },
  {
   "cell_type": "markdown",
   "id": "8d16d992-1443-4d6b-9762-51512fd51bfd",
   "metadata": {},
   "source": [
    "**Array Birleştirme(Concatenation)**\n"
   ]
  },
  {
   "cell_type": "code",
   "execution_count": 11,
   "id": "91c66d27-1577-4fc1-a364-e9fe18a5b8a3",
   "metadata": {},
   "outputs": [],
   "source": [
    "import numpy as np"
   ]
  },
  {
   "cell_type": "code",
   "execution_count": 12,
   "id": "da9ef148-2744-48a5-a171-dd38e07672e4",
   "metadata": {},
   "outputs": [],
   "source": [
    "x=np.array([1,2,3])\n",
    "y=np.array([4,5,6])"
   ]
  },
  {
   "cell_type": "code",
   "execution_count": 17,
   "id": "2ac423cf-23b1-48d4-9c9c-0d7742643d6b",
   "metadata": {},
   "outputs": [
    {
     "data": {
      "text/plain": [
       "array([1, 2, 3, 4, 5, 6])"
      ]
     },
     "execution_count": 17,
     "metadata": {},
     "output_type": "execute_result"
    }
   ],
   "source": [
    "np.concatenate([x,y])"
   ]
  },
  {
   "cell_type": "code",
   "execution_count": 18,
   "id": "6de9e26d-6e7a-4a92-9534-b0b12c8a935e",
   "metadata": {},
   "outputs": [],
   "source": [
    "z=np.array([7,8,9])"
   ]
  },
  {
   "cell_type": "code",
   "execution_count": 19,
   "id": "ff716c08-0d27-4ce2-8cd1-25449e1d181a",
   "metadata": {},
   "outputs": [
    {
     "data": {
      "text/plain": [
       "array([1, 2, 3, 4, 5, 6, 7, 8, 9])"
      ]
     },
     "execution_count": 19,
     "metadata": {},
     "output_type": "execute_result"
    }
   ],
   "source": [
    "np.concatenate([x,y,z])"
   ]
  },
  {
   "cell_type": "code",
   "execution_count": 20,
   "id": "33897fe5-8994-42a3-94ad-b0ec10d81f14",
   "metadata": {},
   "outputs": [],
   "source": [
    "#İki boyut"
   ]
  },
  {
   "cell_type": "code",
   "execution_count": 21,
   "id": "45629582-6750-433b-a27a-d48dfe1d362a",
   "metadata": {},
   "outputs": [],
   "source": [
    "a = np.array([[1,2,3],\n",
    "              [4,5,6]])"
   ]
  },
  {
   "cell_type": "code",
   "execution_count": 22,
   "id": "f922cfb0-311f-4c26-b2e3-5c9a08e685c6",
   "metadata": {},
   "outputs": [
    {
     "data": {
      "text/plain": [
       "array([[1, 2, 3],\n",
       "       [4, 5, 6],\n",
       "       [1, 2, 3],\n",
       "       [4, 5, 6]])"
      ]
     },
     "execution_count": 22,
     "metadata": {},
     "output_type": "execute_result"
    }
   ],
   "source": [
    "np.concatenate([a,a])"
   ]
  },
  {
   "cell_type": "code",
   "execution_count": 23,
   "id": "758c6fcc-cf8e-48fb-8c56-b21c8f2768f5",
   "metadata": {},
   "outputs": [
    {
     "data": {
      "text/plain": [
       "array([[1, 2, 3, 1, 2, 3],\n",
       "       [4, 5, 6, 4, 5, 6]])"
      ]
     },
     "execution_count": 23,
     "metadata": {},
     "output_type": "execute_result"
    }
   ],
   "source": [
    "np.concatenate([a,a], axis=1)"
   ]
  },
  {
   "cell_type": "markdown",
   "id": "cbad8ecb-5281-432b-aaea-27efcd601080",
   "metadata": {},
   "source": [
    "**Array Ayırma(Splitting)**"
   ]
  },
  {
   "cell_type": "code",
   "execution_count": 24,
   "id": "41d2ed3e-c319-4f9a-81e2-6c0b8972405c",
   "metadata": {},
   "outputs": [],
   "source": [
    "import numpy as np"
   ]
  },
  {
   "cell_type": "code",
   "execution_count": 25,
   "id": "488fd8a2-fe0f-497f-b236-76a48e3a504c",
   "metadata": {},
   "outputs": [],
   "source": [
    "x=np.array([1,2,3,99,99,3,2,1])"
   ]
  },
  {
   "cell_type": "code",
   "execution_count": 26,
   "id": "b53722f4-e210-4276-be2e-8f60050100d5",
   "metadata": {},
   "outputs": [
    {
     "data": {
      "text/plain": [
       "[array([1, 2, 3]), array([99, 99]), array([3, 2, 1])]"
      ]
     },
     "execution_count": 26,
     "metadata": {},
     "output_type": "execute_result"
    }
   ],
   "source": [
    "np.split(x, [3,5])"
   ]
  },
  {
   "cell_type": "code",
   "execution_count": 33,
   "id": "74c46572-2efb-43fe-a1a5-28e9cb5844a9",
   "metadata": {},
   "outputs": [
    {
     "data": {
      "text/plain": [
       "array([3, 2, 1])"
      ]
     },
     "execution_count": 33,
     "metadata": {},
     "output_type": "execute_result"
    }
   ],
   "source": [
    "a,b,c = np.split(x, [3,5])"
   ]
  },
  {
   "cell_type": "code",
   "execution_count": 28,
   "id": "c18f53ba-c214-425a-9ebe-6871f34990e6",
   "metadata": {},
   "outputs": [
    {
     "data": {
      "text/plain": [
       "array([1, 2, 3])"
      ]
     },
     "execution_count": 28,
     "metadata": {},
     "output_type": "execute_result"
    }
   ],
   "source": [
    "a"
   ]
  },
  {
   "cell_type": "code",
   "execution_count": 29,
   "id": "f6130f30-7970-476e-a0c6-307b1aed1897",
   "metadata": {},
   "outputs": [
    {
     "data": {
      "text/plain": [
       "array([99, 99])"
      ]
     },
     "execution_count": 29,
     "metadata": {},
     "output_type": "execute_result"
    }
   ],
   "source": [
    "b"
   ]
  },
  {
   "cell_type": "code",
   "execution_count": 30,
   "id": "483117f3-293e-4aa0-89a1-96e31f27398f",
   "metadata": {},
   "outputs": [
    {
     "data": {
      "text/plain": [
       "array([3, 2, 1])"
      ]
     },
     "execution_count": 30,
     "metadata": {},
     "output_type": "execute_result"
    }
   ],
   "source": [
    "c"
   ]
  },
  {
   "cell_type": "code",
   "execution_count": 31,
   "id": "2265e9b7-dd8b-4093-aeb0-9a0f832758e8",
   "metadata": {},
   "outputs": [],
   "source": [
    "#İki boyutlu ayırma"
   ]
  },
  {
   "cell_type": "code",
   "execution_count": 32,
   "id": "4c0ed8c8-dc8c-4b97-8ccd-14a40e3164f6",
   "metadata": {},
   "outputs": [
    {
     "data": {
      "text/plain": [
       "array([[ 0,  1,  2,  3],\n",
       "       [ 4,  5,  6,  7],\n",
       "       [ 8,  9, 10, 11],\n",
       "       [12, 13, 14, 15]])"
      ]
     },
     "execution_count": 32,
     "metadata": {},
     "output_type": "execute_result"
    }
   ],
   "source": [
    "m = np.arange(16).reshape(4,4)\n",
    "m"
   ]
  },
  {
   "cell_type": "code",
   "execution_count": 44,
   "id": "0520aa79-6113-4110-916d-56bbd85dc7ab",
   "metadata": {},
   "outputs": [
    {
     "data": {
      "text/plain": [
       "[array([[0, 1, 2, 3],\n",
       "        [4, 5, 6, 7]]),\n",
       " array([[ 8,  9, 10, 11],\n",
       "        [12, 13, 14, 15]])]"
      ]
     },
     "execution_count": 44,
     "metadata": {},
     "output_type": "execute_result"
    }
   ],
   "source": [
    "np.vsplit(m, [2])"
   ]
  },
  {
   "cell_type": "code",
   "execution_count": 45,
   "id": "cebe402b-b001-4874-9aab-51c52d2951e2",
   "metadata": {},
   "outputs": [],
   "source": [
    "ust,alt=np.vsplit(m, [2])"
   ]
  },
  {
   "cell_type": "code",
   "execution_count": 46,
   "id": "e38cfc35-db1a-47e2-aede-55a624dcc8a0",
   "metadata": {},
   "outputs": [
    {
     "data": {
      "text/plain": [
       "array([[0, 1, 2, 3],\n",
       "       [4, 5, 6, 7]])"
      ]
     },
     "execution_count": 46,
     "metadata": {},
     "output_type": "execute_result"
    }
   ],
   "source": [
    "ust"
   ]
  },
  {
   "cell_type": "code",
   "execution_count": 47,
   "id": "07b1d240-c784-4b18-b9c5-60b054ad6c99",
   "metadata": {},
   "outputs": [
    {
     "data": {
      "text/plain": [
       "array([[ 8,  9, 10, 11],\n",
       "       [12, 13, 14, 15]])"
      ]
     },
     "execution_count": 47,
     "metadata": {},
     "output_type": "execute_result"
    }
   ],
   "source": [
    "alt"
   ]
  },
  {
   "cell_type": "code",
   "execution_count": 42,
   "id": "bdf333ca-1547-40f4-84f6-530a6368661e",
   "metadata": {},
   "outputs": [
    {
     "data": {
      "text/plain": [
       "array([[ 0,  1,  2,  3],\n",
       "       [ 4,  5,  6,  7],\n",
       "       [ 8,  9, 10, 11],\n",
       "       [12, 13, 14, 15]])"
      ]
     },
     "execution_count": 42,
     "metadata": {},
     "output_type": "execute_result"
    }
   ],
   "source": [
    "m"
   ]
  },
  {
   "cell_type": "code",
   "execution_count": 43,
   "id": "2c73cd4c-1dca-45d8-82c5-c4f008c729a2",
   "metadata": {},
   "outputs": [
    {
     "data": {
      "text/plain": [
       "[array([[ 0,  1],\n",
       "        [ 4,  5],\n",
       "        [ 8,  9],\n",
       "        [12, 13]]),\n",
       " array([[ 2,  3],\n",
       "        [ 6,  7],\n",
       "        [10, 11],\n",
       "        [14, 15]])]"
      ]
     },
     "execution_count": 43,
     "metadata": {},
     "output_type": "execute_result"
    }
   ],
   "source": [
    "np.hsplit(m, [2])"
   ]
  },
  {
   "cell_type": "code",
   "execution_count": 48,
   "id": "252ba1bc-9dcd-439d-8557-b18ed46b2b5a",
   "metadata": {},
   "outputs": [],
   "source": [
    "sag, sol=np.hsplit(m, [2])"
   ]
  },
  {
   "cell_type": "code",
   "execution_count": 49,
   "id": "665f4694-eb35-46f7-a755-02d6e6f7678e",
   "metadata": {},
   "outputs": [
    {
     "data": {
      "text/plain": [
       "array([[ 0,  1],\n",
       "       [ 4,  5],\n",
       "       [ 8,  9],\n",
       "       [12, 13]])"
      ]
     },
     "execution_count": 49,
     "metadata": {},
     "output_type": "execute_result"
    }
   ],
   "source": [
    "sag"
   ]
  },
  {
   "cell_type": "code",
   "execution_count": 50,
   "id": "e6e85797-63af-413c-9b8d-e9dc03981c8b",
   "metadata": {},
   "outputs": [
    {
     "data": {
      "text/plain": [
       "array([[ 2,  3],\n",
       "       [ 6,  7],\n",
       "       [10, 11],\n",
       "       [14, 15]])"
      ]
     },
     "execution_count": 50,
     "metadata": {},
     "output_type": "execute_result"
    }
   ],
   "source": [
    "sol"
   ]
  },
  {
   "cell_type": "markdown",
   "id": "46182ce0-815c-43a7-9b1e-a2ee9a336351",
   "metadata": {},
   "source": [
    "**Array Sıralama(Sorting)**"
   ]
  },
  {
   "cell_type": "code",
   "execution_count": 51,
   "id": "263640c0-9717-4f02-805b-622f43a2db1a",
   "metadata": {},
   "outputs": [],
   "source": [
    "import numpy as np"
   ]
  },
  {
   "cell_type": "code",
   "execution_count": 52,
   "id": "98a08db3-e14e-4537-932e-ceb80c73f086",
   "metadata": {},
   "outputs": [],
   "source": [
    "v =np.array([2,5,8,9,6,7,4,1,3])"
   ]
  },
  {
   "cell_type": "code",
   "execution_count": 53,
   "id": "4815d51a-c22a-4b2a-a443-4813a5b80e69",
   "metadata": {},
   "outputs": [
    {
     "data": {
      "text/plain": [
       "array([2, 5, 8, 9, 6, 7, 4, 1, 3])"
      ]
     },
     "execution_count": 53,
     "metadata": {},
     "output_type": "execute_result"
    }
   ],
   "source": [
    "v"
   ]
  },
  {
   "cell_type": "code",
   "execution_count": 54,
   "id": "dbeef360-6551-4109-97fb-a52b5526bc87",
   "metadata": {},
   "outputs": [
    {
     "data": {
      "text/plain": [
       "array([1, 2, 3, 4, 5, 6, 7, 8, 9])"
      ]
     },
     "execution_count": 54,
     "metadata": {},
     "output_type": "execute_result"
    }
   ],
   "source": [
    "np.sort(v)"
   ]
  },
  {
   "cell_type": "code",
   "execution_count": 55,
   "id": "cfadfa00-780c-42d3-adc5-91d2e57a0590",
   "metadata": {},
   "outputs": [
    {
     "data": {
      "text/plain": [
       "array([2, 5, 8, 9, 6, 7, 4, 1, 3])"
      ]
     },
     "execution_count": 55,
     "metadata": {},
     "output_type": "execute_result"
    }
   ],
   "source": [
    "v"
   ]
  },
  {
   "cell_type": "code",
   "execution_count": 56,
   "id": "5b18a109-ad81-4e6c-8dbf-77259396d763",
   "metadata": {},
   "outputs": [],
   "source": [
    "v.sort()"
   ]
  },
  {
   "cell_type": "code",
   "execution_count": 57,
   "id": "2a4c5ea4-0adc-4919-a340-6ec9647cc15f",
   "metadata": {},
   "outputs": [
    {
     "data": {
      "text/plain": [
       "array([1, 2, 3, 4, 5, 6, 7, 8, 9])"
      ]
     },
     "execution_count": 57,
     "metadata": {},
     "output_type": "execute_result"
    }
   ],
   "source": [
    "v"
   ]
  },
  {
   "cell_type": "code",
   "execution_count": 58,
   "id": "f9c1ef02-bf91-472f-a7b5-9cf280455d67",
   "metadata": {},
   "outputs": [],
   "source": [
    "#iki boyutlu "
   ]
  },
  {
   "cell_type": "code",
   "execution_count": 59,
   "id": "074b5466-d9d7-421a-9711-23a964137ce5",
   "metadata": {},
   "outputs": [
    {
     "data": {
      "text/plain": [
       "array([[19.92278716, 11.17653152, 20.52384382, 23.54613642, 16.82933806],\n",
       "       [13.76003587, 20.11924505, 24.81898704, 17.72248607, 20.56468007],\n",
       "       [16.50462519, 16.93115434, 20.28833434, 14.69959234, 23.95448065]])"
      ]
     },
     "execution_count": 59,
     "metadata": {},
     "output_type": "execute_result"
    }
   ],
   "source": [
    "m = np.random.normal(20,5,(3,5))\n",
    "m"
   ]
  },
  {
   "cell_type": "code",
   "execution_count": 60,
   "id": "ae8b6d02-d089-42be-9873-95f156aa8755",
   "metadata": {},
   "outputs": [
    {
     "data": {
      "text/plain": [
       "array([[11.17653152, 16.82933806, 19.92278716, 20.52384382, 23.54613642],\n",
       "       [13.76003587, 17.72248607, 20.11924505, 20.56468007, 24.81898704],\n",
       "       [14.69959234, 16.50462519, 16.93115434, 20.28833434, 23.95448065]])"
      ]
     },
     "execution_count": 60,
     "metadata": {},
     "output_type": "execute_result"
    }
   ],
   "source": [
    "np.sort(m, axis=1)"
   ]
  },
  {
   "cell_type": "code",
   "execution_count": 61,
   "id": "112f93e2-2fb4-4b7d-9b36-3f8f2e11c975",
   "metadata": {},
   "outputs": [
    {
     "data": {
      "text/plain": [
       "array([[13.76003587, 11.17653152, 20.28833434, 14.69959234, 16.82933806],\n",
       "       [16.50462519, 16.93115434, 20.52384382, 17.72248607, 20.56468007],\n",
       "       [19.92278716, 20.11924505, 24.81898704, 23.54613642, 23.95448065]])"
      ]
     },
     "execution_count": 61,
     "metadata": {},
     "output_type": "execute_result"
    }
   ],
   "source": [
    "np.sort(m, axis=0)"
   ]
  },
  {
   "cell_type": "code",
   "execution_count": null,
   "id": "87954ad2-4b8b-4f58-8563-cbd603cf91cb",
   "metadata": {},
   "outputs": [],
   "source": []
  }
 ],
 "metadata": {
  "kernelspec": {
   "display_name": "Python 3 (ipykernel)",
   "language": "python",
   "name": "python3"
  },
  "language_info": {
   "codemirror_mode": {
    "name": "ipython",
    "version": 3
   },
   "file_extension": ".py",
   "mimetype": "text/x-python",
   "name": "python",
   "nbconvert_exporter": "python",
   "pygments_lexer": "ipython3",
   "version": "3.9.12"
  }
 },
 "nbformat": 4,
 "nbformat_minor": 5
}
